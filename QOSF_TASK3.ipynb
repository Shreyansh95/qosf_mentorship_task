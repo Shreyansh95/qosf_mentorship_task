{
 "cells": [
  {
   "cell_type": "markdown",
   "metadata": {},
   "source": [
    "## TASK 3"
   ]
  },
  {
   "cell_type": "markdown",
   "metadata": {},
   "source": [
    "This code has been written to implement a function which returns operator for any unitary targeting any qubit(s) for any circuit size - therefore an implementation of the U3 gate. \n",
    "\n",
    "For this reason, the input format is slightly different from the one mentioned in the task description notebook. The input format for this simulator is:\n",
    "\n",
    "my_circuit = \\[{ \"total_qubits\":2, \"theta\":[np.pi/2], \"phi\": [0], \"lambda\": [np.pi],\"control_qubits\":[], \"target_qubits\": [0] },\n",
    "\n",
    "{ \"total_qubits\":2, \"theta\":[0, np.pi], \"phi\": [0, 0], \"lambda\": [0, np.pi], \"control_qubits\":[0], \"target_qubits\": [1] },\n",
    "\n",
    "...\n",
    "\\]\n",
    "\n",
    "The control_qubits term can be passed as an empty list if for example implementing a single-qubit gate.\n",
    "\n",
    "The Theta, phi and lambda lists should contain $2^{**}l$ elements, l being the number of control qubits. This is becuase for this generalised simulator, a unitary can be implemented on the target qubit for each permutation of conditions on the control qubits as given in the additional info document shown below:\n",
    "\n",
    "<a href=\"https://ibb.co/3f4kDk2\"><img src=\"https://i.ibb.co/jVbHcHm/Capture.png\" alt=\"Capture\" border=\"0\"></a>\n",
    "\n"
   ]
  },
  {
   "cell_type": "code",
   "execution_count": 224,
   "metadata": {},
   "outputs": [],
   "source": [
    "import numpy as np\n",
    "from numpy.random import choice"
   ]
  },
  {
   "cell_type": "code",
   "execution_count": 225,
   "metadata": {},
   "outputs": [],
   "source": [
    "def get_ground_state(num_qubits):\n",
    "    # return vector of size 2**num_qubits with all zeroes except first element which is 1\n",
    "    ground_state = np.zeros((2**num_qubits,1))\n",
    "    ground_state[0] = 1\n",
    "    return ground_state\n",
    "\n",
    "def unitary(theta, phi, lambd):\n",
    "    gate_unitary = [[np.cos(theta/2), -np.exp(1j * lambd) * np.sin(theta / 2)],\n",
    "                    [np.exp(1j * phi) * np.sin(theta / 2), np.exp(1j * lambd + 1j * phi) * np.cos(theta / 2)]]\n",
    "    return gate_unitary\n",
    "\n",
    "\n",
    "def get_operator(total_qubits, theta, phi, lambd, control_qubits, target_qubits):\n",
    "    # return unitary operator of size 2**n x 2**n for given gate and target qubits\n",
    "    l = len(control_qubits)\n",
    "    m = len(target_qubits)\n",
    "    n = total_qubits\n",
    "\n",
    "    operator = 0\n",
    "    # Define 2x2 Identity\n",
    "\n",
    "    I = np.identity(2)\n",
    "\n",
    "    # Define projection operator |0><0|\n",
    "\n",
    "    P0x0 = np.array([[1, 0],\n",
    "                     [0, 0]])\n",
    "\n",
    "    # Define projection operator |1><1|\n",
    "\n",
    "    P1x1 = np.array([[0, 0],\n",
    "                     [0, 1]])\n",
    "\n",
    "    projections = [P0x0, P1x1]\n",
    "\n",
    "    for i in range(2**l):\n",
    "        \n",
    "        #here binary indexes have been used to decide the permutations on control qubits\n",
    "        \n",
    "        bin_array = np.array(list(np.binary_repr(i).zfill(l))).astype(np.int8)\n",
    "        control_index = 0\n",
    "        target_index = 0\n",
    "        \n",
    "        #multi-qubit gate with control terms\n",
    "        if(l!=0):\n",
    "            \n",
    "            #deciding the first qubit term\n",
    "            if(control_qubits[control_index]==0):\n",
    "                term = projections[bin_array[control_index]]\n",
    "                control_index+=1\n",
    "\n",
    "            elif(target_qubits[target_index]==0):\n",
    "                term = unitary(theta[i], phi[i], lambd[i])\n",
    "\n",
    "            else:\n",
    "                term = I\n",
    "                \n",
    "            #operations for rest of the qubits(tensor product in succession to the first qubit)\n",
    "            for j in range(1,n):\n",
    "                if(j in control_qubits):\n",
    "                    term = np.kron(term, projections[bin_array[control_index]])\n",
    "                    control_index+=1\n",
    "\n",
    "                elif(j in target_qubits):\n",
    "                    term = np.kron(term,unitary(theta[i], phi[i], lambd[i]))\n",
    "\n",
    "                else:\n",
    "                    term = np.kron(term, I)\n",
    "            operator += term\n",
    "        \n",
    "        #for gates without control terms\n",
    "        else:\n",
    "            if target_qubits[0] == 0: \n",
    "                operator = unitary(theta[i], phi[i], lambd[i])\n",
    "            else:\n",
    "                operator = I        \n",
    "                \n",
    "            for j in range(1,n):\n",
    "                if (j in target_qubits):\n",
    "                    operator = np.kron(operator, unitary(theta[i], phi[i], lambd[i]))\n",
    "                else:\n",
    "                    operator = np.kron(operator, I)\n",
    "    \n",
    "    return operator\n",
    "\n",
    "def run_program(initial_state, program):\n",
    "    # read program, and for each gate:\n",
    "    #   - calculate matrix operator\n",
    "    #   - multiply state with operator\n",
    "    # return final state\n",
    "    final_state = initial_state\n",
    "    for p in program:\n",
    "        operator = get_operator(p[\"total_qubits\"], p[\"theta\"], p[\"phi\"],\n",
    "                            p[\"lambda\"], p[\"control_qubits\"], p[\"target_qubits\"])\n",
    "        final_state = np.dot(operator, final_state)/np.linalg.norm(np.dot(operator, final_state))\n",
    "    return final_state\n",
    "\n",
    "def measure_all(state_vector, total_qubits):\n",
    "    # choose element from state_vector using weighted random and return it's index\n",
    "    tobin = np.vectorize(np.binary_repr)\n",
    "    list_of_candidates = tobin(np.arange(len(state_vector)))\n",
    "    list_of_candidates = [item.zfill(total_qubits) for item in list_of_candidates]   \n",
    "    abs_vec = np.vectorize(abs)\n",
    "    draw = choice(list_of_candidates, 1, \n",
    "                  p=np.ndarray.flatten(abs_vec(state_vector)**2))\n",
    "    return draw\n",
    "\n",
    "def get_counts(total_qubits, state_vector, num_shots):\n",
    "    # simply execute measure_all in a loop num_shots times and\n",
    "    # return object with statistics in following form:\n",
    "    #   {\n",
    "    #      element_index: number_of_ocurrences,\n",
    "    #      element_index: number_of_ocurrences,\n",
    "    #      element_index: number_of_ocurrences,\n",
    "    #      ...\n",
    "    #   }\n",
    "    statistic = {}\n",
    "    for i in range(num_shots):\n",
    "        \n",
    "        value = measure_all(state_vector, total_qubits)\n",
    "        if(value[0] in statistic):\n",
    "            statistic[value[0]] +=1\n",
    "        else:\n",
    "            statistic[value[0]] =1\n",
    "    # (only for elements which occoured - returned from measure_all)\n",
    "    return statistic"
   ]
  },
  {
   "cell_type": "markdown",
   "metadata": {},
   "source": [
    "### Example Implementation: \n",
    "\n",
    "2 Qubit Simulator as given in the task document:"
   ]
  },
  {
   "cell_type": "code",
   "execution_count": 226,
   "metadata": {},
   "outputs": [
    {
     "name": "stdout",
     "output_type": "stream",
     "text": [
      "{'00': 502, '11': 498}\n"
     ]
    }
   ],
   "source": [
    "#define total_qubits:\n",
    "\n",
    "total_qubits = 2\n",
    "# Define program:\n",
    "\n",
    "my_circuit = [\n",
    "{ \"total_qubits\":2, \"theta\":[np.pi/2], \"phi\": [0], \"lambda\": [np.pi],\"control_qubits\":[], \"target_qubits\": [0] }, \n",
    "{ \"total_qubits\":2, \"theta\":[0,np.pi], \"phi\": [0,0], \"lambda\":[0,np.pi], \"control_qubits\":[0], \"target_qubits\": [1] }\n",
    "]\n",
    "\n",
    "\n",
    "# Create \"quantum computer\" with 2 qubits (this is actually just a vector :) )\n",
    "\n",
    "my_qpu = get_ground_state(2)\n",
    "\n",
    "\n",
    "# Run circuit\n",
    "\n",
    "final_state = run_program(my_qpu, my_circuit)\n",
    "\n",
    "\n",
    "# Read results\n",
    "\n",
    "counts = get_counts(total_qubits, final_state, 1000)\n",
    "\n",
    "print(counts)\n"
   ]
  },
  {
   "cell_type": "markdown",
   "metadata": {},
   "source": [
    "### Example Implementation: \n",
    "\n",
    "8 Qubit Simulator for the same gates as before:"
   ]
  },
  {
   "cell_type": "code",
   "execution_count": 227,
   "metadata": {},
   "outputs": [
    {
     "name": "stdout",
     "output_type": "stream",
     "text": [
      "{'11000000': 479, '00000000': 521}\n"
     ]
    }
   ],
   "source": [
    "#define total_qubits:\n",
    "\n",
    "total_qubits = 8\n",
    "\n",
    "# Define program:\n",
    "\n",
    "my_circuit = [\n",
    "{ \"total_qubits\":total_qubits, \"theta\":[np.pi/2], \"phi\": [0], \"lambda\": [np.pi],\"control_qubits\":[], \"target_qubits\": [0] }, \n",
    "{ \"total_qubits\":total_qubits, \"theta\":[0,np.pi], \"phi\": [0,0], \"lambda\":[0,np.pi], \"control_qubits\":[0], \"target_qubits\": [1] }\n",
    "]\n",
    "\n",
    "\n",
    "# Create \"quantum computer\" with 2 qubits (this is actually just a vector :) )\n",
    "\n",
    "my_qpu = get_ground_state(total_qubits)\n",
    "\n",
    "\n",
    "# Run circuit\n",
    "\n",
    "final_state = run_program(my_qpu, my_circuit)\n",
    "\n",
    "\n",
    "# Read results\n",
    "\n",
    "counts = get_counts(total_qubits, final_state, 1000)\n",
    "\n",
    "print(counts)\n"
   ]
  },
  {
   "cell_type": "markdown",
   "metadata": {},
   "source": [
    "### Example Implementation: \n",
    "\n",
    "4 Qubit Simulator h-gate then CCX(0,1,2):"
   ]
  },
  {
   "cell_type": "code",
   "execution_count": 228,
   "metadata": {},
   "outputs": [
    {
     "name": "stdout",
     "output_type": "stream",
     "text": [
      "{'1000': 513, '0000': 487}\n"
     ]
    }
   ],
   "source": [
    "#define total_qubits:\n",
    "\n",
    "total_qubits = 4\n",
    "\n",
    "# Define program:\n",
    "\n",
    "my_circuit = [\n",
    "    { \"total_qubits\":total_qubits, \"theta\":[np.pi/2], \"phi\": [0], \"lambda\": [np.pi],\"control_qubits\":[], \"target_qubits\": [0] }, \n",
    "    { \"total_qubits\":total_qubits, \"theta\":[0,0,0,np.pi], \"phi\": [0,0,0,0], \"lambda\":[0,0,0,np.pi], \"control_qubits\":[0,1], \"target_qubits\": [2] }\n",
    "]\n",
    "\n",
    "\n",
    "# Create \"quantum computer\" with 2 qubits (this is actually just a vector :) )\n",
    "\n",
    "my_qpu = get_ground_state(total_qubits)\n",
    "\n",
    "\n",
    "# Run circuit\n",
    "\n",
    "final_state = run_program(my_qpu, my_circuit)\n",
    "\n",
    "\n",
    "# Read results\n",
    "\n",
    "counts = get_counts(total_qubits, final_state, 1000)\n",
    "\n",
    "print(counts)\n"
   ]
  },
  {
   "cell_type": "markdown",
   "metadata": {},
   "source": []
  }
 ],
 "metadata": {
  "kernelspec": {
   "display_name": "Python 3",
   "language": "python",
   "name": "python3"
  },
  "language_info": {
   "codemirror_mode": {
    "name": "ipython",
    "version": 3
   },
   "file_extension": ".py",
   "mimetype": "text/x-python",
   "name": "python",
   "nbconvert_exporter": "python",
   "pygments_lexer": "ipython3",
   "version": "3.7.3"
  }
 },
 "nbformat": 4,
 "nbformat_minor": 2
}
